{
 "cells": [
  {
   "cell_type": "code",
   "execution_count": null,
   "metadata": {},
   "outputs": [],
   "source": []
  },
  {
   "cell_type": "code",
   "execution_count": 1,
   "metadata": {},
   "outputs": [],
   "source": [
    "\n",
    "\n"
   ]
  },
  {
   "cell_type": "code",
   "execution_count": 1,
   "metadata": {},
   "outputs": [],
   "source": [
    "import os\n",
    "import argparse\n",
    "import multiprocessing\n",
    "from collections import Counter\n",
    "\n",
    "import torch\n",
    "import torchaudio\n",
    "import numpy as np\n",
    "import pandas as pd\n",
    "\n",
    "from models import PretrainedModel, Model\n",
    "from data import SLUDataset, get_SLU_datasets, read_config\n",
    "from training import Trainer\n",
    "\n",
    "USE_CUDA = torch.cuda.is_available()\n",
    "DEVICE = torch.device(\"cuda\" if USE_CUDA else \"cpu\")"
   ]
  },
  {
   "cell_type": "code",
   "execution_count": 2,
   "metadata": {},
   "outputs": [],
   "source": [
    "config_path = 'unfreeze_word_layers.cfg'\n",
    "config = read_config(config_path)\n",
    "torch.manual_seed(config.seed); np.random.seed(config.seed)"
   ]
  },
  {
   "cell_type": "code",
   "execution_count": null,
   "metadata": {},
   "outputs": [],
   "source": []
  },
  {
   "cell_type": "markdown",
   "metadata": {},
   "source": [
    "# 1. Generate datasets"
   ]
  },
  {
   "cell_type": "code",
   "execution_count": 3,
   "metadata": {},
   "outputs": [],
   "source": [
    "train_dataset, valid_dataset, test_dataset = get_SLU_datasets(config)\n",
    "#train_dataset_sample = next(iter(train_dataset.loader))"
   ]
  },
  {
   "cell_type": "code",
   "execution_count": 7,
   "metadata": {},
   "outputs": [
    {
     "data": {
      "text/plain": [
       "{'action': {'change language': 0,\n",
       "  'activate': 1,\n",
       "  'deactivate': 2,\n",
       "  'increase': 3,\n",
       "  'decrease': 4,\n",
       "  'bring': 5},\n",
       " 'object': {'none': 0,\n",
       "  'music': 1,\n",
       "  'lights': 2,\n",
       "  'volume': 3,\n",
       "  'heat': 4,\n",
       "  'lamp': 5,\n",
       "  'newspaper': 6,\n",
       "  'juice': 7,\n",
       "  'socks': 8,\n",
       "  'Chinese': 9,\n",
       "  'Korean': 10,\n",
       "  'English': 11,\n",
       "  'German': 12,\n",
       "  'shoes': 13},\n",
       " 'location': {'none': 0, 'kitchen': 1, 'bedroom': 2, 'washroom': 3}}"
      ]
     },
     "execution_count": 7,
     "metadata": {},
     "output_type": "execute_result"
    }
   ],
   "source": [
    "config.Sy_intent"
   ]
  },
  {
   "cell_type": "markdown",
   "metadata": {},
   "source": [
    "# 2. Train SLU Model"
   ]
  },
  {
   "cell_type": "code",
   "execution_count": 7,
   "metadata": {},
   "outputs": [
    {
     "data": {
      "text/plain": [
       "Model(\n",
       "  (pretrained_model): PretrainedModel(\n",
       "    (phoneme_layers): ModuleList(\n",
       "      (0): SincLayer()\n",
       "      (1): Abs()\n",
       "      (2): MaxPool1d(kernel_size=2, stride=2, padding=0, dilation=1, ceil_mode=True)\n",
       "      (3): LeakyReLU(negative_slope=0.2)\n",
       "      (4): Dropout(p=0.0, inplace=False)\n",
       "      (5): Conv1d(80, 60, kernel_size=(5,), stride=(1,), padding=(2,))\n",
       "      (6): MaxPool1d(kernel_size=1, stride=1, padding=0, dilation=1, ceil_mode=True)\n",
       "      (7): LeakyReLU(negative_slope=0.2)\n",
       "      (8): Dropout(p=0.0, inplace=False)\n",
       "      (9): Conv1d(60, 60, kernel_size=(5,), stride=(1,), padding=(2,))\n",
       "      (10): MaxPool1d(kernel_size=1, stride=1, padding=0, dilation=1, ceil_mode=True)\n",
       "      (11): LeakyReLU(negative_slope=0.2)\n",
       "      (12): Dropout(p=0.0, inplace=False)\n",
       "      (13): NCL2NLC()\n",
       "      (14): GRU(60, 128, batch_first=True, bidirectional=True)\n",
       "      (15): RNNSelect()\n",
       "      (16): Dropout(p=0.5, inplace=False)\n",
       "      (17): Downsample()\n",
       "      (18): GRU(256, 128, batch_first=True, bidirectional=True)\n",
       "      (19): RNNSelect()\n",
       "      (20): Dropout(p=0.5, inplace=False)\n",
       "      (21): Downsample()\n",
       "    )\n",
       "    (phoneme_linear): Linear(in_features=256, out_features=42, bias=True)\n",
       "    (word_layers): ModuleList(\n",
       "      (0): GRU(256, 128, batch_first=True, bidirectional=True)\n",
       "      (1): RNNSelect()\n",
       "      (2): Dropout(p=0.5, inplace=False)\n",
       "      (3): Downsample()\n",
       "      (4): GRU(256, 128, batch_first=True, bidirectional=True)\n",
       "      (5): RNNSelect()\n",
       "      (6): Dropout(p=0.5, inplace=False)\n",
       "      (7): Downsample()\n",
       "    )\n",
       "    (word_linear): Linear(in_features=256, out_features=10000, bias=True)\n",
       "  )\n",
       "  (intent_layers): ModuleList(\n",
       "    (0): GRU(256, 128, batch_first=True, bidirectional=True)\n",
       "    (1): RNNSelect()\n",
       "    (2): Dropout(p=0.5, inplace=False)\n",
       "    (3): Downsample()\n",
       "    (4): Linear(in_features=256, out_features=24, bias=True)\n",
       "    (5): FinalPool()\n",
       "  )\n",
       ")"
      ]
     },
     "execution_count": 7,
     "metadata": {},
     "output_type": "execute_result"
    }
   ],
   "source": [
    "# Initialize SLU Model\n",
    "model = Model(config=config)\n",
    "model"
   ]
  },
  {
   "cell_type": "code",
   "execution_count": 8,
   "metadata": {},
   "outputs": [
    {
     "name": "stderr",
     "output_type": "stream",
     "text": [
      "\r",
      "  0%|          | 0/723 [00:00<?, ?it/s]"
     ]
    },
    {
     "name": "stdout",
     "output_type": "stream",
     "text": [
      "========= Epoch 1 of 20 =========\n",
      "sinc0: frozen\n",
      "conv1: frozen\n",
      "conv2: frozen\n",
      "phone_rnn0: frozen\n",
      "phone_rnn1: frozen\n",
      "word_rnn0: frozen\n",
      "word_rnn1: frozen\n"
     ]
    },
    {
     "name": "stderr",
     "output_type": "stream",
     "text": [
      "\r",
      "  0%|          | 1/723 [00:00<10:20,  1.16it/s]"
     ]
    },
    {
     "name": "stdout",
     "output_type": "stream",
     "text": [
      "intent loss: 5.902858734130859\n",
      "intent acc: 0.0\n"
     ]
    },
    {
     "name": "stderr",
     "output_type": "stream",
     "text": [
      " 14%|█▍        | 101/723 [00:20<02:05,  4.97it/s]"
     ]
    },
    {
     "name": "stdout",
     "output_type": "stream",
     "text": [
      "intent loss: 1.37888503074646\n",
      "intent acc: 0.6875\n"
     ]
    },
    {
     "name": "stderr",
     "output_type": "stream",
     "text": [
      " 28%|██▊       | 202/723 [00:39<01:34,  5.50it/s]"
     ]
    },
    {
     "name": "stdout",
     "output_type": "stream",
     "text": [
      "intent loss: 0.900307297706604\n",
      "intent acc: 0.765625\n"
     ]
    },
    {
     "name": "stderr",
     "output_type": "stream",
     "text": [
      " 42%|████▏     | 301/723 [00:59<01:19,  5.28it/s]"
     ]
    },
    {
     "name": "stdout",
     "output_type": "stream",
     "text": [
      "intent loss: 0.8312504291534424\n",
      "intent acc: 0.78125\n"
     ]
    },
    {
     "name": "stderr",
     "output_type": "stream",
     "text": [
      " 56%|█████▌    | 402/723 [01:18<00:58,  5.51it/s]"
     ]
    },
    {
     "name": "stdout",
     "output_type": "stream",
     "text": [
      "intent loss: 0.7913159132003784\n",
      "intent acc: 0.78125\n"
     ]
    },
    {
     "name": "stderr",
     "output_type": "stream",
     "text": [
      " 69%|██████▉   | 502/723 [01:37<00:40,  5.40it/s]"
     ]
    },
    {
     "name": "stdout",
     "output_type": "stream",
     "text": [
      "intent loss: 0.4167709946632385\n",
      "intent acc: 0.90625\n"
     ]
    },
    {
     "name": "stderr",
     "output_type": "stream",
     "text": [
      " 83%|████████▎ | 602/723 [01:56<00:21,  5.53it/s]"
     ]
    },
    {
     "name": "stdout",
     "output_type": "stream",
     "text": [
      "intent loss: 0.5207804441452026\n",
      "intent acc: 0.875\n"
     ]
    },
    {
     "name": "stderr",
     "output_type": "stream",
     "text": [
      " 97%|█████████▋| 702/723 [02:15<00:04,  5.17it/s]"
     ]
    },
    {
     "name": "stdout",
     "output_type": "stream",
     "text": [
      "intent loss: 0.450076162815094\n",
      "intent acc: 0.90625\n"
     ]
    },
    {
     "name": "stderr",
     "output_type": "stream",
     "text": [
      "100%|██████████| 723/723 [02:19<00:00,  5.71it/s]\n",
      "  0%|          | 0/723 [00:00<?, ?it/s]"
     ]
    },
    {
     "name": "stdout",
     "output_type": "stream",
     "text": [
      "========= Results: epoch 1 of 20 =========\n",
      "*intents*| train accuracy: 0.75| train loss: 0.98| valid accuracy: 0.87| valid loss: 0.53\n",
      "\n",
      "========= Epoch 2 of 20 =========\n",
      "sinc0: frozen\n",
      "conv1: frozen\n",
      "conv2: frozen\n",
      "phone_rnn0: frozen\n",
      "phone_rnn1: frozen\n",
      "word_rnn0: frozen\n",
      "word_rnn1: unfrozen\n"
     ]
    },
    {
     "name": "stderr",
     "output_type": "stream",
     "text": [
      "  0%|          | 2/723 [00:01<08:28,  1.42it/s]"
     ]
    },
    {
     "name": "stdout",
     "output_type": "stream",
     "text": [
      "intent loss: 0.31375187635421753\n",
      "intent acc: 0.90625\n"
     ]
    },
    {
     "name": "stderr",
     "output_type": "stream",
     "text": [
      " 14%|█▍        | 101/723 [00:20<02:07,  4.89it/s]"
     ]
    },
    {
     "name": "stdout",
     "output_type": "stream",
     "text": [
      "intent loss: 0.19355660676956177\n",
      "intent acc: 0.96875\n"
     ]
    },
    {
     "name": "stderr",
     "output_type": "stream",
     "text": [
      " 28%|██▊       | 202/723 [00:41<01:48,  4.81it/s]"
     ]
    },
    {
     "name": "stdout",
     "output_type": "stream",
     "text": [
      "intent loss: 0.26075249910354614\n",
      "intent acc: 0.90625\n"
     ]
    },
    {
     "name": "stderr",
     "output_type": "stream",
     "text": [
      " 42%|████▏     | 301/723 [01:01<01:20,  5.25it/s]"
     ]
    },
    {
     "name": "stdout",
     "output_type": "stream",
     "text": [
      "intent loss: 0.37171459197998047\n",
      "intent acc: 0.890625\n"
     ]
    },
    {
     "name": "stderr",
     "output_type": "stream",
     "text": [
      " 55%|█████▌    | 401/723 [01:21<01:03,  5.06it/s]"
     ]
    },
    {
     "name": "stdout",
     "output_type": "stream",
     "text": [
      "intent loss: 0.19526979327201843\n",
      "intent acc: 0.953125\n"
     ]
    },
    {
     "name": "stderr",
     "output_type": "stream",
     "text": [
      " 69%|██████▉   | 501/723 [01:40<00:45,  4.83it/s]"
     ]
    },
    {
     "name": "stdout",
     "output_type": "stream",
     "text": [
      "intent loss: 0.2167237102985382\n",
      "intent acc: 0.921875\n"
     ]
    },
    {
     "name": "stderr",
     "output_type": "stream",
     "text": [
      " 83%|████████▎ | 601/723 [02:00<00:23,  5.26it/s]"
     ]
    },
    {
     "name": "stdout",
     "output_type": "stream",
     "text": [
      "intent loss: 0.3530408442020416\n",
      "intent acc: 0.921875\n"
     ]
    },
    {
     "name": "stderr",
     "output_type": "stream",
     "text": [
      " 97%|█████████▋| 702/723 [02:20<00:03,  5.36it/s]"
     ]
    },
    {
     "name": "stdout",
     "output_type": "stream",
     "text": [
      "intent loss: 0.20250743627548218\n",
      "intent acc: 0.953125\n"
     ]
    },
    {
     "name": "stderr",
     "output_type": "stream",
     "text": [
      "100%|██████████| 723/723 [02:24<00:00,  5.22it/s]\n",
      "  0%|          | 0/723 [00:00<?, ?it/s]"
     ]
    },
    {
     "name": "stdout",
     "output_type": "stream",
     "text": [
      "========= Results: epoch 2 of 20 =========\n",
      "*intents*| train accuracy: 0.92| train loss: 0.29| valid accuracy: 0.91| valid loss: 0.38\n",
      "\n",
      "========= Epoch 3 of 20 =========\n",
      "sinc0: frozen\n",
      "conv1: frozen\n",
      "conv2: frozen\n",
      "phone_rnn0: frozen\n",
      "phone_rnn1: frozen\n",
      "word_rnn0: unfrozen\n",
      "word_rnn1: unfrozen\n"
     ]
    },
    {
     "name": "stderr",
     "output_type": "stream",
     "text": [
      "\r",
      "  0%|          | 1/723 [00:00<09:27,  1.27it/s]"
     ]
    },
    {
     "name": "stdout",
     "output_type": "stream",
     "text": [
      "intent loss: 0.08004306256771088\n",
      "intent acc: 0.96875\n"
     ]
    },
    {
     "name": "stderr",
     "output_type": "stream",
     "text": [
      " 14%|█▍        | 102/723 [00:21<02:13,  4.67it/s]"
     ]
    },
    {
     "name": "stdout",
     "output_type": "stream",
     "text": [
      "intent loss: 0.21178334951400757\n",
      "intent acc: 0.9375\n"
     ]
    },
    {
     "name": "stderr",
     "output_type": "stream",
     "text": [
      " 28%|██▊       | 201/723 [00:41<01:34,  5.54it/s]"
     ]
    },
    {
     "name": "stdout",
     "output_type": "stream",
     "text": [
      "intent loss: 0.1158694177865982\n",
      "intent acc: 0.953125\n"
     ]
    },
    {
     "name": "stderr",
     "output_type": "stream",
     "text": [
      " 42%|████▏     | 302/723 [01:01<01:23,  5.05it/s]"
     ]
    },
    {
     "name": "stdout",
     "output_type": "stream",
     "text": [
      "intent loss: 0.1892060488462448\n",
      "intent acc: 0.96875\n"
     ]
    },
    {
     "name": "stderr",
     "output_type": "stream",
     "text": [
      " 56%|█████▌    | 402/723 [01:22<01:07,  4.76it/s]"
     ]
    },
    {
     "name": "stdout",
     "output_type": "stream",
     "text": [
      "intent loss: 0.23005661368370056\n",
      "intent acc: 0.921875\n"
     ]
    },
    {
     "name": "stderr",
     "output_type": "stream",
     "text": [
      " 69%|██████▉   | 502/723 [01:43<00:41,  5.32it/s]"
     ]
    },
    {
     "name": "stdout",
     "output_type": "stream",
     "text": [
      "intent loss: 0.15211082994937897\n",
      "intent acc: 0.953125\n"
     ]
    },
    {
     "name": "stderr",
     "output_type": "stream",
     "text": [
      " 83%|████████▎ | 602/723 [02:03<00:23,  5.17it/s]"
     ]
    },
    {
     "name": "stdout",
     "output_type": "stream",
     "text": [
      "intent loss: 0.3073040843009949\n",
      "intent acc: 0.90625\n"
     ]
    },
    {
     "name": "stderr",
     "output_type": "stream",
     "text": [
      " 97%|█████████▋| 702/723 [02:24<00:04,  5.21it/s]"
     ]
    },
    {
     "name": "stdout",
     "output_type": "stream",
     "text": [
      "intent loss: 0.1690542995929718\n",
      "intent acc: 0.96875\n"
     ]
    },
    {
     "name": "stderr",
     "output_type": "stream",
     "text": [
      "100%|██████████| 723/723 [02:28<00:00,  5.38it/s]\n",
      "  0%|          | 0/723 [00:00<?, ?it/s]"
     ]
    },
    {
     "name": "stdout",
     "output_type": "stream",
     "text": [
      "========= Results: epoch 3 of 20 =========\n",
      "*intents*| train accuracy: 0.95| train loss: 0.18| valid accuracy: 0.92| valid loss: 0.34\n",
      "\n",
      "========= Epoch 4 of 20 =========\n",
      "sinc0: frozen\n",
      "conv1: frozen\n",
      "conv2: frozen\n",
      "phone_rnn0: frozen\n",
      "phone_rnn1: frozen\n",
      "word_rnn0: unfrozen\n",
      "word_rnn1: unfrozen\n"
     ]
    },
    {
     "name": "stderr",
     "output_type": "stream",
     "text": [
      "  0%|          | 2/723 [00:00<07:12,  1.67it/s]"
     ]
    },
    {
     "name": "stdout",
     "output_type": "stream",
     "text": [
      "intent loss: 0.2126576006412506\n",
      "intent acc: 0.9375\n"
     ]
    },
    {
     "name": "stderr",
     "output_type": "stream",
     "text": [
      " 14%|█▍        | 101/723 [00:21<02:02,  5.07it/s]"
     ]
    },
    {
     "name": "stdout",
     "output_type": "stream",
     "text": [
      "intent loss: 0.10074374824762344\n",
      "intent acc: 0.984375\n"
     ]
    },
    {
     "name": "stderr",
     "output_type": "stream",
     "text": [
      " 28%|██▊       | 202/723 [00:42<01:47,  4.84it/s]"
     ]
    },
    {
     "name": "stdout",
     "output_type": "stream",
     "text": [
      "intent loss: 0.030516505241394043\n",
      "intent acc: 1.0\n"
     ]
    },
    {
     "name": "stderr",
     "output_type": "stream",
     "text": [
      " 42%|████▏     | 301/723 [01:03<01:23,  5.07it/s]"
     ]
    },
    {
     "name": "stdout",
     "output_type": "stream",
     "text": [
      "intent loss: 0.17312565445899963\n",
      "intent acc: 0.9375\n"
     ]
    },
    {
     "name": "stderr",
     "output_type": "stream",
     "text": [
      " 55%|█████▌    | 401/723 [01:23<01:05,  4.93it/s]"
     ]
    },
    {
     "name": "stdout",
     "output_type": "stream",
     "text": [
      "intent loss: 0.16899573802947998\n",
      "intent acc: 0.9375\n"
     ]
    },
    {
     "name": "stderr",
     "output_type": "stream",
     "text": [
      " 69%|██████▉   | 502/723 [01:45<00:44,  5.02it/s]"
     ]
    },
    {
     "name": "stdout",
     "output_type": "stream",
     "text": [
      "intent loss: 0.1739170253276825\n",
      "intent acc: 0.984375\n"
     ]
    },
    {
     "name": "stderr",
     "output_type": "stream",
     "text": [
      " 83%|████████▎ | 602/723 [02:06<00:26,  4.54it/s]"
     ]
    },
    {
     "name": "stdout",
     "output_type": "stream",
     "text": [
      "intent loss: 0.2316683530807495\n",
      "intent acc: 0.953125\n"
     ]
    },
    {
     "name": "stderr",
     "output_type": "stream",
     "text": [
      " 97%|█████████▋| 702/723 [02:26<00:04,  4.93it/s]"
     ]
    },
    {
     "name": "stdout",
     "output_type": "stream",
     "text": [
      "intent loss: 0.10282950103282928\n",
      "intent acc: 0.984375\n"
     ]
    },
    {
     "name": "stderr",
     "output_type": "stream",
     "text": [
      "100%|██████████| 723/723 [02:31<00:00,  3.84it/s]\n",
      "  0%|          | 0/723 [00:00<?, ?it/s]"
     ]
    },
    {
     "name": "stdout",
     "output_type": "stream",
     "text": [
      "========= Results: epoch 4 of 20 =========\n",
      "*intents*| train accuracy: 0.96| train loss: 0.13| valid accuracy: 0.93| valid loss: 0.37\n",
      "\n",
      "========= Epoch 5 of 20 =========\n",
      "sinc0: frozen\n",
      "conv1: frozen\n",
      "conv2: frozen\n",
      "phone_rnn0: frozen\n",
      "phone_rnn1: frozen\n",
      "word_rnn0: unfrozen\n",
      "word_rnn1: unfrozen\n"
     ]
    },
    {
     "name": "stderr",
     "output_type": "stream",
     "text": [
      "  0%|          | 2/723 [00:00<06:52,  1.75it/s]"
     ]
    },
    {
     "name": "stdout",
     "output_type": "stream",
     "text": [
      "intent loss: 0.13689573109149933\n",
      "intent acc: 0.953125\n"
     ]
    },
    {
     "name": "stderr",
     "output_type": "stream",
     "text": [
      " 14%|█▍        | 102/723 [00:21<02:01,  5.12it/s]"
     ]
    },
    {
     "name": "stdout",
     "output_type": "stream",
     "text": [
      "intent loss: 0.13014279305934906\n",
      "intent acc: 0.953125\n"
     ]
    },
    {
     "name": "stderr",
     "output_type": "stream",
     "text": [
      " 28%|██▊       | 202/723 [00:42<01:42,  5.11it/s]"
     ]
    },
    {
     "name": "stdout",
     "output_type": "stream",
     "text": [
      "intent loss: 0.03510870784521103\n",
      "intent acc: 0.984375\n"
     ]
    },
    {
     "name": "stderr",
     "output_type": "stream",
     "text": [
      " 42%|████▏     | 302/723 [01:03<01:18,  5.39it/s]"
     ]
    },
    {
     "name": "stdout",
     "output_type": "stream",
     "text": [
      "intent loss: 0.04426129162311554\n",
      "intent acc: 1.0\n"
     ]
    },
    {
     "name": "stderr",
     "output_type": "stream",
     "text": [
      " 55%|█████▌    | 401/723 [01:23<01:07,  4.74it/s]"
     ]
    },
    {
     "name": "stdout",
     "output_type": "stream",
     "text": [
      "intent loss: 0.1253020018339157\n",
      "intent acc: 0.953125\n"
     ]
    },
    {
     "name": "stderr",
     "output_type": "stream",
     "text": [
      " 69%|██████▉   | 501/723 [01:44<00:45,  4.84it/s]"
     ]
    },
    {
     "name": "stdout",
     "output_type": "stream",
     "text": [
      "intent loss: 0.06012031435966492\n",
      "intent acc: 0.984375\n"
     ]
    },
    {
     "name": "stderr",
     "output_type": "stream",
     "text": [
      " 83%|████████▎ | 601/723 [02:04<00:26,  4.65it/s]"
     ]
    },
    {
     "name": "stdout",
     "output_type": "stream",
     "text": [
      "intent loss: 0.23438063263893127\n",
      "intent acc: 0.953125\n"
     ]
    },
    {
     "name": "stderr",
     "output_type": "stream",
     "text": [
      " 97%|█████████▋| 701/723 [02:25<00:04,  5.40it/s]"
     ]
    },
    {
     "name": "stdout",
     "output_type": "stream",
     "text": [
      "intent loss: 0.17000290751457214\n",
      "intent acc: 0.96875\n"
     ]
    },
    {
     "name": "stderr",
     "output_type": "stream",
     "text": [
      "100%|██████████| 723/723 [02:29<00:00,  4.96it/s]\n",
      "  0%|          | 0/723 [00:00<?, ?it/s]"
     ]
    },
    {
     "name": "stdout",
     "output_type": "stream",
     "text": [
      "========= Results: epoch 5 of 20 =========\n",
      "*intents*| train accuracy: 0.97| train loss: 0.10| valid accuracy: 0.94| valid loss: 0.33\n",
      "\n",
      "========= Epoch 6 of 20 =========\n",
      "sinc0: frozen\n",
      "conv1: frozen\n",
      "conv2: frozen\n",
      "phone_rnn0: frozen\n",
      "phone_rnn1: frozen\n",
      "word_rnn0: unfrozen\n",
      "word_rnn1: unfrozen\n"
     ]
    },
    {
     "name": "stderr",
     "output_type": "stream",
     "text": [
      "\r",
      "  0%|          | 1/723 [00:00<08:47,  1.37it/s]"
     ]
    },
    {
     "name": "stdout",
     "output_type": "stream",
     "text": [
      "intent loss: 0.026165127754211426\n",
      "intent acc: 1.0\n"
     ]
    },
    {
     "name": "stderr",
     "output_type": "stream",
     "text": [
      " 14%|█▍        | 101/723 [00:21<02:01,  5.13it/s]"
     ]
    },
    {
     "name": "stdout",
     "output_type": "stream",
     "text": [
      "intent loss: 0.11579971760511398\n",
      "intent acc: 0.96875\n"
     ]
    },
    {
     "name": "stderr",
     "output_type": "stream",
     "text": [
      " 28%|██▊       | 201/723 [00:42<01:53,  4.60it/s]"
     ]
    },
    {
     "name": "stdout",
     "output_type": "stream",
     "text": [
      "intent loss: 0.1753195822238922\n",
      "intent acc: 0.953125\n"
     ]
    },
    {
     "name": "stderr",
     "output_type": "stream",
     "text": [
      " 42%|████▏     | 302/723 [01:03<01:22,  5.12it/s]"
     ]
    },
    {
     "name": "stdout",
     "output_type": "stream",
     "text": [
      "intent loss: 0.3193781077861786\n",
      "intent acc: 0.9375\n"
     ]
    },
    {
     "name": "stderr",
     "output_type": "stream",
     "text": [
      " 55%|█████▌    | 401/723 [01:23<01:01,  5.22it/s]"
     ]
    },
    {
     "name": "stdout",
     "output_type": "stream",
     "text": [
      "intent loss: 0.14846791326999664\n",
      "intent acc: 0.96875\n"
     ]
    },
    {
     "name": "stderr",
     "output_type": "stream",
     "text": [
      " 69%|██████▉   | 502/723 [01:43<00:44,  4.97it/s]"
     ]
    },
    {
     "name": "stdout",
     "output_type": "stream",
     "text": [
      "intent loss: 0.10314665734767914\n",
      "intent acc: 0.96875\n"
     ]
    },
    {
     "name": "stderr",
     "output_type": "stream",
     "text": [
      " 83%|████████▎ | 601/723 [02:03<00:26,  4.62it/s]"
     ]
    },
    {
     "name": "stdout",
     "output_type": "stream",
     "text": [
      "intent loss: 0.18057522177696228\n",
      "intent acc: 0.921875\n"
     ]
    },
    {
     "name": "stderr",
     "output_type": "stream",
     "text": [
      " 97%|█████████▋| 701/723 [02:24<00:04,  5.20it/s]"
     ]
    },
    {
     "name": "stdout",
     "output_type": "stream",
     "text": [
      "intent loss: 0.10463625192642212\n",
      "intent acc: 0.96875\n"
     ]
    },
    {
     "name": "stderr",
     "output_type": "stream",
     "text": [
      "100%|██████████| 723/723 [02:28<00:00,  4.75it/s]\n",
      "  0%|          | 0/723 [00:00<?, ?it/s]"
     ]
    },
    {
     "name": "stdout",
     "output_type": "stream",
     "text": [
      "========= Results: epoch 6 of 20 =========\n",
      "*intents*| train accuracy: 0.98| train loss: 0.09| valid accuracy: 0.93| valid loss: 0.33\n",
      "\n",
      "========= Epoch 7 of 20 =========\n",
      "sinc0: frozen\n",
      "conv1: frozen\n",
      "conv2: frozen\n",
      "phone_rnn0: frozen\n",
      "phone_rnn1: frozen\n",
      "word_rnn0: unfrozen\n",
      "word_rnn1: unfrozen\n"
     ]
    },
    {
     "name": "stderr",
     "output_type": "stream",
     "text": [
      "\r",
      "  0%|          | 1/723 [00:00<09:16,  1.30it/s]"
     ]
    },
    {
     "name": "stdout",
     "output_type": "stream",
     "text": [
      "intent loss: 0.02566172182559967\n",
      "intent acc: 0.984375\n"
     ]
    },
    {
     "name": "stderr",
     "output_type": "stream",
     "text": [
      " 14%|█▍        | 101/723 [00:21<02:05,  4.94it/s]"
     ]
    },
    {
     "name": "stdout",
     "output_type": "stream",
     "text": [
      "intent loss: 0.09919841587543488\n",
      "intent acc: 0.984375\n"
     ]
    },
    {
     "name": "stderr",
     "output_type": "stream",
     "text": [
      " 28%|██▊       | 201/723 [00:42<01:48,  4.82it/s]"
     ]
    },
    {
     "name": "stdout",
     "output_type": "stream",
     "text": [
      "intent loss: 0.1786399483680725\n",
      "intent acc: 0.96875\n"
     ]
    },
    {
     "name": "stderr",
     "output_type": "stream",
     "text": [
      " 42%|████▏     | 302/723 [01:03<01:23,  5.05it/s]"
     ]
    },
    {
     "name": "stdout",
     "output_type": "stream",
     "text": [
      "intent loss: 0.0342530831694603\n",
      "intent acc: 0.984375\n"
     ]
    },
    {
     "name": "stderr",
     "output_type": "stream",
     "text": [
      " 55%|█████▌    | 401/723 [01:23<01:08,  4.67it/s]"
     ]
    },
    {
     "name": "stdout",
     "output_type": "stream",
     "text": [
      "intent loss: 0.2793881893157959\n",
      "intent acc: 0.9375\n"
     ]
    },
    {
     "name": "stderr",
     "output_type": "stream",
     "text": [
      " 69%|██████▉   | 501/723 [01:43<00:45,  4.87it/s]"
     ]
    },
    {
     "name": "stdout",
     "output_type": "stream",
     "text": [
      "intent loss: 0.014937937259674072\n",
      "intent acc: 1.0\n"
     ]
    },
    {
     "name": "stderr",
     "output_type": "stream",
     "text": [
      " 83%|████████▎ | 602/723 [02:04<00:24,  4.95it/s]"
     ]
    },
    {
     "name": "stdout",
     "output_type": "stream",
     "text": [
      "intent loss: 0.07276134192943573\n",
      "intent acc: 0.984375\n"
     ]
    },
    {
     "name": "stderr",
     "output_type": "stream",
     "text": [
      " 97%|█████████▋| 702/723 [02:24<00:04,  5.22it/s]"
     ]
    },
    {
     "name": "stdout",
     "output_type": "stream",
     "text": [
      "intent loss: 0.08053798228502274\n",
      "intent acc: 0.984375\n"
     ]
    },
    {
     "name": "stderr",
     "output_type": "stream",
     "text": [
      "100%|██████████| 723/723 [02:29<00:00,  5.06it/s]\n",
      "  0%|          | 0/723 [00:00<?, ?it/s]"
     ]
    },
    {
     "name": "stdout",
     "output_type": "stream",
     "text": [
      "========= Results: epoch 7 of 20 =========\n",
      "*intents*| train accuracy: 0.98| train loss: 0.08| valid accuracy: 0.93| valid loss: 0.38\n",
      "\n",
      "========= Epoch 8 of 20 =========\n",
      "sinc0: frozen\n",
      "conv1: frozen\n",
      "conv2: frozen\n",
      "phone_rnn0: frozen\n",
      "phone_rnn1: frozen\n",
      "word_rnn0: unfrozen\n",
      "word_rnn1: unfrozen\n"
     ]
    },
    {
     "name": "stderr",
     "output_type": "stream",
     "text": [
      "  0%|          | 2/723 [00:00<06:28,  1.86it/s]"
     ]
    },
    {
     "name": "stdout",
     "output_type": "stream",
     "text": [
      "intent loss: 0.16372990608215332\n",
      "intent acc: 0.96875\n"
     ]
    },
    {
     "name": "stderr",
     "output_type": "stream",
     "text": [
      " 14%|█▍        | 101/723 [00:20<01:51,  5.59it/s]"
     ]
    },
    {
     "name": "stdout",
     "output_type": "stream",
     "text": [
      "intent loss: 0.052596092224121094\n",
      "intent acc: 0.96875\n"
     ]
    },
    {
     "name": "stderr",
     "output_type": "stream",
     "text": [
      " 28%|██▊       | 202/723 [00:41<01:48,  4.79it/s]"
     ]
    },
    {
     "name": "stdout",
     "output_type": "stream",
     "text": [
      "intent loss: 0.06317295134067535\n",
      "intent acc: 0.96875\n"
     ]
    },
    {
     "name": "stderr",
     "output_type": "stream",
     "text": [
      " 42%|████▏     | 301/723 [01:02<01:24,  5.02it/s]"
     ]
    },
    {
     "name": "stdout",
     "output_type": "stream",
     "text": [
      "intent loss: 0.1673908829689026\n",
      "intent acc: 0.953125\n"
     ]
    },
    {
     "name": "stderr",
     "output_type": "stream",
     "text": [
      " 55%|█████▌    | 401/723 [01:23<01:05,  4.95it/s]"
     ]
    },
    {
     "name": "stdout",
     "output_type": "stream",
     "text": [
      "intent loss: 0.04265959560871124\n",
      "intent acc: 0.984375\n"
     ]
    },
    {
     "name": "stderr",
     "output_type": "stream",
     "text": [
      " 69%|██████▉   | 502/723 [01:44<00:45,  4.83it/s]"
     ]
    },
    {
     "name": "stdout",
     "output_type": "stream",
     "text": [
      "intent loss: 0.018503032624721527\n",
      "intent acc: 1.0\n"
     ]
    },
    {
     "name": "stderr",
     "output_type": "stream",
     "text": [
      " 83%|████████▎ | 602/723 [02:05<00:24,  4.95it/s]"
     ]
    },
    {
     "name": "stdout",
     "output_type": "stream",
     "text": [
      "intent loss: 0.027199864387512207\n",
      "intent acc: 1.0\n"
     ]
    },
    {
     "name": "stderr",
     "output_type": "stream",
     "text": [
      " 97%|█████████▋| 702/723 [02:25<00:04,  4.48it/s]"
     ]
    },
    {
     "name": "stdout",
     "output_type": "stream",
     "text": [
      "intent loss: 0.1308099776506424\n",
      "intent acc: 0.96875\n"
     ]
    },
    {
     "name": "stderr",
     "output_type": "stream",
     "text": [
      "100%|██████████| 723/723 [02:30<00:00,  3.83it/s]\n",
      "  0%|          | 0/723 [00:00<?, ?it/s]"
     ]
    },
    {
     "name": "stdout",
     "output_type": "stream",
     "text": [
      "========= Results: epoch 8 of 20 =========\n",
      "*intents*| train accuracy: 0.98| train loss: 0.07| valid accuracy: 0.94| valid loss: 0.33\n",
      "\n",
      "========= Epoch 9 of 20 =========\n",
      "sinc0: frozen\n",
      "conv1: frozen\n",
      "conv2: frozen\n",
      "phone_rnn0: frozen\n",
      "phone_rnn1: frozen\n",
      "word_rnn0: unfrozen\n",
      "word_rnn1: unfrozen\n"
     ]
    },
    {
     "name": "stderr",
     "output_type": "stream",
     "text": [
      "  0%|          | 2/723 [00:00<07:10,  1.67it/s]"
     ]
    },
    {
     "name": "stdout",
     "output_type": "stream",
     "text": [
      "intent loss: 0.05123135447502136\n",
      "intent acc: 0.96875\n"
     ]
    },
    {
     "name": "stderr",
     "output_type": "stream",
     "text": [
      " 14%|█▍        | 101/723 [00:21<02:04,  5.01it/s]"
     ]
    },
    {
     "name": "stdout",
     "output_type": "stream",
     "text": [
      "intent loss: 0.02335166186094284\n",
      "intent acc: 1.0\n"
     ]
    },
    {
     "name": "stderr",
     "output_type": "stream",
     "text": [
      " 28%|██▊       | 201/723 [00:42<01:58,  4.42it/s]"
     ]
    },
    {
     "name": "stdout",
     "output_type": "stream",
     "text": [
      "intent loss: 0.010862879455089569\n",
      "intent acc: 1.0\n"
     ]
    },
    {
     "name": "stderr",
     "output_type": "stream",
     "text": [
      " 42%|████▏     | 301/723 [01:03<01:32,  4.57it/s]"
     ]
    },
    {
     "name": "stdout",
     "output_type": "stream",
     "text": [
      "intent loss: 0.009808160364627838\n",
      "intent acc: 1.0\n"
     ]
    },
    {
     "name": "stderr",
     "output_type": "stream",
     "text": [
      " 55%|█████▌    | 401/723 [01:23<01:10,  4.58it/s]"
     ]
    },
    {
     "name": "stdout",
     "output_type": "stream",
     "text": [
      "intent loss: 0.05136634409427643\n",
      "intent acc: 0.984375\n"
     ]
    },
    {
     "name": "stderr",
     "output_type": "stream",
     "text": [
      " 69%|██████▉   | 502/723 [01:45<00:45,  4.90it/s]"
     ]
    },
    {
     "name": "stdout",
     "output_type": "stream",
     "text": [
      "intent loss: 0.039281412959098816\n",
      "intent acc: 0.984375\n"
     ]
    },
    {
     "name": "stderr",
     "output_type": "stream",
     "text": [
      " 83%|████████▎ | 602/723 [02:06<00:26,  4.49it/s]"
     ]
    },
    {
     "name": "stdout",
     "output_type": "stream",
     "text": [
      "intent loss: 0.0031185895204544067\n",
      "intent acc: 1.0\n"
     ]
    },
    {
     "name": "stderr",
     "output_type": "stream",
     "text": [
      " 97%|█████████▋| 702/723 [02:27<00:04,  5.08it/s]"
     ]
    },
    {
     "name": "stdout",
     "output_type": "stream",
     "text": [
      "intent loss: 0.05383843928575516\n",
      "intent acc: 0.96875\n"
     ]
    },
    {
     "name": "stderr",
     "output_type": "stream",
     "text": [
      "100%|██████████| 723/723 [02:31<00:00,  4.43it/s]\n",
      "  0%|          | 0/723 [00:00<?, ?it/s]"
     ]
    },
    {
     "name": "stdout",
     "output_type": "stream",
     "text": [
      "========= Results: epoch 9 of 20 =========\n",
      "*intents*| train accuracy: 0.98| train loss: 0.07| valid accuracy: 0.93| valid loss: 0.37\n",
      "\n",
      "========= Epoch 10 of 20 =========\n",
      "sinc0: frozen\n",
      "conv1: frozen\n",
      "conv2: frozen\n",
      "phone_rnn0: frozen\n",
      "phone_rnn1: frozen\n",
      "word_rnn0: unfrozen\n",
      "word_rnn1: unfrozen\n"
     ]
    },
    {
     "name": "stderr",
     "output_type": "stream",
     "text": [
      "\r",
      "  0%|          | 1/723 [00:00<09:36,  1.25it/s]"
     ]
    },
    {
     "name": "stdout",
     "output_type": "stream",
     "text": [
      "intent loss: 0.04114902764558792\n",
      "intent acc: 0.984375\n"
     ]
    },
    {
     "name": "stderr",
     "output_type": "stream",
     "text": [
      " 14%|█▍        | 101/723 [00:20<02:00,  5.17it/s]"
     ]
    },
    {
     "name": "stdout",
     "output_type": "stream",
     "text": [
      "intent loss: 0.016583561897277832\n",
      "intent acc: 1.0\n"
     ]
    },
    {
     "name": "stderr",
     "output_type": "stream",
     "text": [
      " 28%|██▊       | 201/723 [00:41<01:43,  5.03it/s]"
     ]
    },
    {
     "name": "stdout",
     "output_type": "stream",
     "text": [
      "intent loss: 0.040397197008132935\n",
      "intent acc: 0.96875\n"
     ]
    },
    {
     "name": "stderr",
     "output_type": "stream",
     "text": [
      " 42%|████▏     | 301/723 [01:02<01:24,  5.00it/s]"
     ]
    },
    {
     "name": "stdout",
     "output_type": "stream",
     "text": [
      "intent loss: 0.04849689453840256\n",
      "intent acc: 0.984375\n"
     ]
    },
    {
     "name": "stderr",
     "output_type": "stream",
     "text": [
      " 56%|█████▌    | 402/723 [01:22<00:58,  5.48it/s]"
     ]
    },
    {
     "name": "stdout",
     "output_type": "stream",
     "text": [
      "intent loss: 0.018668845295906067\n",
      "intent acc: 1.0\n"
     ]
    },
    {
     "name": "stderr",
     "output_type": "stream",
     "text": [
      " 69%|██████▉   | 501/723 [01:42<00:46,  4.79it/s]"
     ]
    },
    {
     "name": "stdout",
     "output_type": "stream",
     "text": [
      "intent loss: 0.12177949398756027\n",
      "intent acc: 0.96875\n"
     ]
    },
    {
     "name": "stderr",
     "output_type": "stream",
     "text": [
      " 83%|████████▎ | 602/723 [02:04<00:23,  5.19it/s]"
     ]
    },
    {
     "name": "stdout",
     "output_type": "stream",
     "text": [
      "intent loss: 0.05466991662979126\n",
      "intent acc: 0.984375\n"
     ]
    },
    {
     "name": "stderr",
     "output_type": "stream",
     "text": [
      " 97%|█████████▋| 701/723 [02:23<00:04,  4.56it/s]"
     ]
    },
    {
     "name": "stdout",
     "output_type": "stream",
     "text": [
      "intent loss: 0.05544475466012955\n",
      "intent acc: 1.0\n"
     ]
    },
    {
     "name": "stderr",
     "output_type": "stream",
     "text": [
      "100%|██████████| 723/723 [02:28<00:00,  4.77it/s]\n",
      "  0%|          | 0/723 [00:00<?, ?it/s]"
     ]
    },
    {
     "name": "stdout",
     "output_type": "stream",
     "text": [
      "========= Results: epoch 10 of 20 =========\n",
      "*intents*| train accuracy: 0.98| train loss: 0.06| valid accuracy: 0.93| valid loss: 0.36\n",
      "\n",
      "========= Epoch 11 of 20 =========\n",
      "sinc0: frozen\n",
      "conv1: frozen\n",
      "conv2: frozen\n",
      "phone_rnn0: frozen\n",
      "phone_rnn1: frozen\n",
      "word_rnn0: unfrozen\n",
      "word_rnn1: unfrozen\n"
     ]
    },
    {
     "name": "stderr",
     "output_type": "stream",
     "text": [
      "\r",
      "  0%|          | 1/723 [00:00<09:21,  1.29it/s]"
     ]
    },
    {
     "name": "stdout",
     "output_type": "stream",
     "text": [
      "intent loss: 0.015931442379951477\n",
      "intent acc: 1.0\n"
     ]
    },
    {
     "name": "stderr",
     "output_type": "stream",
     "text": [
      " 14%|█▍        | 102/723 [00:22<02:00,  5.13it/s]"
     ]
    },
    {
     "name": "stdout",
     "output_type": "stream",
     "text": [
      "intent loss: 0.012609913945198059\n",
      "intent acc: 1.0\n"
     ]
    },
    {
     "name": "stderr",
     "output_type": "stream",
     "text": [
      " 28%|██▊       | 201/723 [00:41<01:44,  5.02it/s]"
     ]
    },
    {
     "name": "stdout",
     "output_type": "stream",
     "text": [
      "intent loss: 0.08275187015533447\n",
      "intent acc: 0.984375\n"
     ]
    },
    {
     "name": "stderr",
     "output_type": "stream",
     "text": [
      " 42%|████▏     | 302/723 [01:02<01:29,  4.72it/s]"
     ]
    },
    {
     "name": "stdout",
     "output_type": "stream",
     "text": [
      "intent loss: 0.1525733321905136\n",
      "intent acc: 0.96875\n"
     ]
    },
    {
     "name": "stderr",
     "output_type": "stream",
     "text": [
      " 55%|█████▌    | 401/723 [01:22<01:12,  4.44it/s]"
     ]
    },
    {
     "name": "stdout",
     "output_type": "stream",
     "text": [
      "intent loss: 0.07102292031049728\n",
      "intent acc: 0.984375\n"
     ]
    },
    {
     "name": "stderr",
     "output_type": "stream",
     "text": [
      " 69%|██████▉   | 501/723 [01:42<00:42,  5.18it/s]"
     ]
    },
    {
     "name": "stdout",
     "output_type": "stream",
     "text": [
      "intent loss: 0.07134727388620377\n",
      "intent acc: 0.984375\n"
     ]
    },
    {
     "name": "stderr",
     "output_type": "stream",
     "text": [
      " 83%|████████▎ | 601/723 [02:03<00:25,  4.74it/s]"
     ]
    },
    {
     "name": "stdout",
     "output_type": "stream",
     "text": [
      "intent loss: 0.09763544052839279\n",
      "intent acc: 0.96875\n"
     ]
    },
    {
     "name": "stderr",
     "output_type": "stream",
     "text": [
      " 97%|█████████▋| 701/723 [02:25<00:04,  4.70it/s]"
     ]
    },
    {
     "name": "stdout",
     "output_type": "stream",
     "text": [
      "intent loss: 0.10471023619174957\n",
      "intent acc: 0.9375\n"
     ]
    },
    {
     "name": "stderr",
     "output_type": "stream",
     "text": [
      "100%|██████████| 723/723 [02:29<00:00,  5.26it/s]\n",
      "  0%|          | 0/723 [00:00<?, ?it/s]"
     ]
    },
    {
     "name": "stdout",
     "output_type": "stream",
     "text": [
      "========= Results: epoch 11 of 20 =========\n",
      "*intents*| train accuracy: 0.98| train loss: 0.06| valid accuracy: 0.93| valid loss: 0.39\n",
      "\n",
      "========= Epoch 12 of 20 =========\n",
      "sinc0: frozen\n",
      "conv1: frozen\n",
      "conv2: frozen\n",
      "phone_rnn0: frozen\n",
      "phone_rnn1: frozen\n",
      "word_rnn0: unfrozen\n",
      "word_rnn1: unfrozen\n"
     ]
    },
    {
     "name": "stderr",
     "output_type": "stream",
     "text": [
      "  0%|          | 2/723 [00:00<06:45,  1.78it/s]"
     ]
    },
    {
     "name": "stdout",
     "output_type": "stream",
     "text": [
      "intent loss: 0.07417677342891693\n",
      "intent acc: 0.953125\n"
     ]
    },
    {
     "name": "stderr",
     "output_type": "stream",
     "text": [
      " 14%|█▍        | 102/723 [00:20<01:54,  5.41it/s]"
     ]
    },
    {
     "name": "stdout",
     "output_type": "stream",
     "text": [
      "intent loss: 0.005555316805839539\n",
      "intent acc: 1.0\n"
     ]
    },
    {
     "name": "stderr",
     "output_type": "stream",
     "text": [
      " 28%|██▊       | 201/723 [00:40<01:45,  4.96it/s]"
     ]
    },
    {
     "name": "stdout",
     "output_type": "stream",
     "text": [
      "intent loss: 0.03143634647130966\n",
      "intent acc: 0.984375\n"
     ]
    },
    {
     "name": "stderr",
     "output_type": "stream",
     "text": [
      " 42%|████▏     | 302/723 [01:01<01:21,  5.16it/s]"
     ]
    },
    {
     "name": "stdout",
     "output_type": "stream",
     "text": [
      "intent loss: 0.04595798999071121\n",
      "intent acc: 0.984375\n"
     ]
    },
    {
     "name": "stderr",
     "output_type": "stream",
     "text": [
      " 55%|█████▌    | 401/723 [01:21<01:09,  4.60it/s]"
     ]
    },
    {
     "name": "stdout",
     "output_type": "stream",
     "text": [
      "intent loss: 0.014566205441951752\n",
      "intent acc: 1.0\n"
     ]
    },
    {
     "name": "stderr",
     "output_type": "stream",
     "text": [
      " 69%|██████▉   | 502/723 [01:42<00:40,  5.47it/s]"
     ]
    },
    {
     "name": "stdout",
     "output_type": "stream",
     "text": [
      "intent loss: 0.02052786573767662\n",
      "intent acc: 0.984375\n"
     ]
    },
    {
     "name": "stderr",
     "output_type": "stream",
     "text": [
      " 83%|████████▎ | 601/723 [02:02<00:28,  4.33it/s]"
     ]
    },
    {
     "name": "stdout",
     "output_type": "stream",
     "text": [
      "intent loss: 0.09722520411014557\n",
      "intent acc: 0.984375\n"
     ]
    },
    {
     "name": "stderr",
     "output_type": "stream",
     "text": [
      " 97%|█████████▋| 702/723 [02:23<00:04,  5.15it/s]"
     ]
    },
    {
     "name": "stdout",
     "output_type": "stream",
     "text": [
      "intent loss: 0.007953420281410217\n",
      "intent acc: 1.0\n"
     ]
    },
    {
     "name": "stderr",
     "output_type": "stream",
     "text": [
      "100%|██████████| 723/723 [02:27<00:00,  4.76it/s]\n",
      "  0%|          | 0/723 [00:00<?, ?it/s]"
     ]
    },
    {
     "name": "stdout",
     "output_type": "stream",
     "text": [
      "========= Results: epoch 12 of 20 =========\n",
      "*intents*| train accuracy: 0.98| train loss: 0.06| valid accuracy: 0.94| valid loss: 0.33\n",
      "\n",
      "========= Epoch 13 of 20 =========\n",
      "sinc0: frozen\n",
      "conv1: frozen\n",
      "conv2: frozen\n",
      "phone_rnn0: frozen\n",
      "phone_rnn1: frozen\n",
      "word_rnn0: unfrozen\n",
      "word_rnn1: unfrozen\n"
     ]
    },
    {
     "name": "stderr",
     "output_type": "stream",
     "text": [
      "  0%|          | 2/723 [00:01<07:41,  1.56it/s]"
     ]
    },
    {
     "name": "stdout",
     "output_type": "stream",
     "text": [
      "intent loss: 0.14960825443267822\n",
      "intent acc: 0.9375\n"
     ]
    },
    {
     "name": "stderr",
     "output_type": "stream",
     "text": [
      " 14%|█▍        | 102/723 [00:21<01:59,  5.22it/s]"
     ]
    },
    {
     "name": "stdout",
     "output_type": "stream",
     "text": [
      "intent loss: 0.019187554717063904\n",
      "intent acc: 1.0\n"
     ]
    },
    {
     "name": "stderr",
     "output_type": "stream",
     "text": [
      " 28%|██▊       | 202/723 [00:41<01:45,  4.93it/s]"
     ]
    },
    {
     "name": "stdout",
     "output_type": "stream",
     "text": [
      "intent loss: 0.09758783876895905\n",
      "intent acc: 0.953125\n"
     ]
    },
    {
     "name": "stderr",
     "output_type": "stream",
     "text": [
      " 42%|████▏     | 302/723 [01:02<01:21,  5.15it/s]"
     ]
    },
    {
     "name": "stdout",
     "output_type": "stream",
     "text": [
      "intent loss: 0.02087213099002838\n",
      "intent acc: 1.0\n"
     ]
    },
    {
     "name": "stderr",
     "output_type": "stream",
     "text": [
      " 56%|█████▌    | 402/723 [01:23<01:03,  5.02it/s]"
     ]
    },
    {
     "name": "stdout",
     "output_type": "stream",
     "text": [
      "intent loss: 0.011148594319820404\n",
      "intent acc: 1.0\n"
     ]
    },
    {
     "name": "stderr",
     "output_type": "stream",
     "text": [
      " 69%|██████▉   | 502/723 [01:44<00:43,  5.03it/s]"
     ]
    },
    {
     "name": "stdout",
     "output_type": "stream",
     "text": [
      "intent loss: 0.05805689096450806\n",
      "intent acc: 0.984375\n"
     ]
    },
    {
     "name": "stderr",
     "output_type": "stream",
     "text": [
      " 83%|████████▎ | 602/723 [02:04<00:24,  5.01it/s]"
     ]
    },
    {
     "name": "stdout",
     "output_type": "stream",
     "text": [
      "intent loss: 0.007336929440498352\n",
      "intent acc: 1.0\n"
     ]
    },
    {
     "name": "stderr",
     "output_type": "stream",
     "text": [
      " 97%|█████████▋| 702/723 [02:25<00:04,  5.05it/s]"
     ]
    },
    {
     "name": "stdout",
     "output_type": "stream",
     "text": [
      "intent loss: 0.06598013639450073\n",
      "intent acc: 0.96875\n"
     ]
    },
    {
     "name": "stderr",
     "output_type": "stream",
     "text": [
      "100%|██████████| 723/723 [02:30<00:00,  4.61it/s]\n",
      "  0%|          | 0/723 [00:00<?, ?it/s]"
     ]
    },
    {
     "name": "stdout",
     "output_type": "stream",
     "text": [
      "========= Results: epoch 13 of 20 =========\n",
      "*intents*| train accuracy: 0.98| train loss: 0.06| valid accuracy: 0.93| valid loss: 0.35\n",
      "\n",
      "========= Epoch 14 of 20 =========\n",
      "sinc0: frozen\n",
      "conv1: frozen\n",
      "conv2: frozen\n",
      "phone_rnn0: frozen\n",
      "phone_rnn1: frozen\n",
      "word_rnn0: unfrozen\n",
      "word_rnn1: unfrozen\n"
     ]
    },
    {
     "name": "stderr",
     "output_type": "stream",
     "text": [
      "  0%|          | 2/723 [00:00<06:49,  1.76it/s]"
     ]
    },
    {
     "name": "stdout",
     "output_type": "stream",
     "text": [
      "intent loss: 0.02644757181406021\n",
      "intent acc: 1.0\n"
     ]
    },
    {
     "name": "stderr",
     "output_type": "stream",
     "text": [
      " 14%|█▍        | 102/723 [00:21<02:01,  5.12it/s]"
     ]
    },
    {
     "name": "stdout",
     "output_type": "stream",
     "text": [
      "intent loss: 0.022243767976760864\n",
      "intent acc: 1.0\n"
     ]
    },
    {
     "name": "stderr",
     "output_type": "stream",
     "text": [
      " 28%|██▊       | 202/723 [00:42<01:54,  4.57it/s]"
     ]
    },
    {
     "name": "stdout",
     "output_type": "stream",
     "text": [
      "intent loss: 0.0503859743475914\n",
      "intent acc: 0.984375\n"
     ]
    },
    {
     "name": "stderr",
     "output_type": "stream",
     "text": [
      " 42%|████▏     | 301/723 [01:04<01:28,  4.78it/s]"
     ]
    },
    {
     "name": "stdout",
     "output_type": "stream",
     "text": [
      "intent loss: 0.02430190145969391\n",
      "intent acc: 0.984375\n"
     ]
    },
    {
     "name": "stderr",
     "output_type": "stream",
     "text": [
      " 56%|█████▌    | 402/723 [01:25<01:01,  5.18it/s]"
     ]
    },
    {
     "name": "stdout",
     "output_type": "stream",
     "text": [
      "intent loss: 0.07800643146038055\n",
      "intent acc: 0.96875\n"
     ]
    },
    {
     "name": "stderr",
     "output_type": "stream",
     "text": [
      " 69%|██████▉   | 501/723 [01:45<00:44,  4.94it/s]"
     ]
    },
    {
     "name": "stdout",
     "output_type": "stream",
     "text": [
      "intent loss: 0.18627110123634338\n",
      "intent acc: 0.96875\n"
     ]
    },
    {
     "name": "stderr",
     "output_type": "stream",
     "text": [
      " 83%|████████▎ | 602/723 [02:07<00:24,  4.90it/s]"
     ]
    },
    {
     "name": "stdout",
     "output_type": "stream",
     "text": [
      "intent loss: 0.2532527446746826\n",
      "intent acc: 0.953125\n"
     ]
    },
    {
     "name": "stderr",
     "output_type": "stream",
     "text": [
      " 97%|█████████▋| 702/723 [02:28<00:04,  4.63it/s]"
     ]
    },
    {
     "name": "stdout",
     "output_type": "stream",
     "text": [
      "intent loss: 0.14670652151107788\n",
      "intent acc: 0.953125\n"
     ]
    },
    {
     "name": "stderr",
     "output_type": "stream",
     "text": [
      "100%|██████████| 723/723 [02:33<00:00,  5.14it/s]\n",
      "  0%|          | 0/723 [00:00<?, ?it/s]"
     ]
    },
    {
     "name": "stdout",
     "output_type": "stream",
     "text": [
      "========= Results: epoch 14 of 20 =========\n",
      "*intents*| train accuracy: 0.98| train loss: 0.05| valid accuracy: 0.93| valid loss: 0.36\n",
      "\n",
      "========= Epoch 15 of 20 =========\n",
      "sinc0: frozen\n",
      "conv1: frozen\n",
      "conv2: frozen\n",
      "phone_rnn0: frozen\n",
      "phone_rnn1: frozen\n",
      "word_rnn0: unfrozen\n",
      "word_rnn1: unfrozen\n"
     ]
    },
    {
     "name": "stderr",
     "output_type": "stream",
     "text": [
      "  0%|          | 2/723 [00:00<07:22,  1.63it/s]"
     ]
    },
    {
     "name": "stdout",
     "output_type": "stream",
     "text": [
      "intent loss: 0.025377213954925537\n",
      "intent acc: 1.0\n"
     ]
    },
    {
     "name": "stderr",
     "output_type": "stream",
     "text": [
      " 14%|█▍        | 102/723 [00:21<02:23,  4.32it/s]"
     ]
    },
    {
     "name": "stdout",
     "output_type": "stream",
     "text": [
      "intent loss: 0.01360706239938736\n",
      "intent acc: 1.0\n"
     ]
    },
    {
     "name": "stderr",
     "output_type": "stream",
     "text": [
      " 28%|██▊       | 202/723 [00:42<01:45,  4.96it/s]"
     ]
    },
    {
     "name": "stdout",
     "output_type": "stream",
     "text": [
      "intent loss: 0.009695030748844147\n",
      "intent acc: 1.0\n"
     ]
    },
    {
     "name": "stderr",
     "output_type": "stream",
     "text": [
      " 42%|████▏     | 302/723 [01:02<01:27,  4.83it/s]"
     ]
    },
    {
     "name": "stdout",
     "output_type": "stream",
     "text": [
      "intent loss: 0.020524367690086365\n",
      "intent acc: 1.0\n"
     ]
    },
    {
     "name": "stderr",
     "output_type": "stream",
     "text": [
      " 55%|█████▌    | 401/723 [01:24<01:07,  4.76it/s]"
     ]
    },
    {
     "name": "stdout",
     "output_type": "stream",
     "text": [
      "intent loss: 0.04915823042392731\n",
      "intent acc: 0.96875\n"
     ]
    },
    {
     "name": "stderr",
     "output_type": "stream",
     "text": [
      " 69%|██████▉   | 501/723 [01:45<00:46,  4.76it/s]"
     ]
    },
    {
     "name": "stdout",
     "output_type": "stream",
     "text": [
      "intent loss: 0.02107015997171402\n",
      "intent acc: 1.0\n"
     ]
    },
    {
     "name": "stderr",
     "output_type": "stream",
     "text": [
      " 83%|████████▎ | 601/723 [02:06<00:30,  3.99it/s]"
     ]
    },
    {
     "name": "stdout",
     "output_type": "stream",
     "text": [
      "intent loss: 0.09864328801631927\n",
      "intent acc: 0.984375\n"
     ]
    },
    {
     "name": "stderr",
     "output_type": "stream",
     "text": [
      " 97%|█████████▋| 701/723 [02:27<00:04,  5.26it/s]"
     ]
    },
    {
     "name": "stdout",
     "output_type": "stream",
     "text": [
      "intent loss: 0.034230247139930725\n",
      "intent acc: 0.984375\n"
     ]
    },
    {
     "name": "stderr",
     "output_type": "stream",
     "text": [
      "100%|██████████| 723/723 [02:31<00:00,  5.47it/s]\n",
      "  0%|          | 0/723 [00:00<?, ?it/s]"
     ]
    },
    {
     "name": "stdout",
     "output_type": "stream",
     "text": [
      "========= Results: epoch 15 of 20 =========\n",
      "*intents*| train accuracy: 0.99| train loss: 0.05| valid accuracy: 0.93| valid loss: 0.38\n",
      "\n",
      "========= Epoch 16 of 20 =========\n",
      "sinc0: frozen\n",
      "conv1: frozen\n",
      "conv2: frozen\n",
      "phone_rnn0: frozen\n",
      "phone_rnn1: frozen\n",
      "word_rnn0: unfrozen\n",
      "word_rnn1: unfrozen\n"
     ]
    },
    {
     "name": "stderr",
     "output_type": "stream",
     "text": [
      "\r",
      "  0%|          | 1/723 [00:00<10:09,  1.18it/s]"
     ]
    },
    {
     "name": "stdout",
     "output_type": "stream",
     "text": [
      "intent loss: 0.010776534676551819\n",
      "intent acc: 1.0\n"
     ]
    },
    {
     "name": "stderr",
     "output_type": "stream",
     "text": [
      " 14%|█▍        | 101/723 [00:21<02:02,  5.08it/s]"
     ]
    },
    {
     "name": "stdout",
     "output_type": "stream",
     "text": [
      "intent loss: 0.044520966708660126\n",
      "intent acc: 0.984375\n"
     ]
    },
    {
     "name": "stderr",
     "output_type": "stream",
     "text": [
      " 28%|██▊       | 202/723 [00:41<01:40,  5.21it/s]"
     ]
    },
    {
     "name": "stdout",
     "output_type": "stream",
     "text": [
      "intent loss: 0.045178405940532684\n",
      "intent acc: 0.984375\n"
     ]
    },
    {
     "name": "stderr",
     "output_type": "stream",
     "text": [
      " 42%|████▏     | 302/723 [01:02<01:25,  4.92it/s]"
     ]
    },
    {
     "name": "stdout",
     "output_type": "stream",
     "text": [
      "intent loss: 0.04612509906291962\n",
      "intent acc: 0.984375\n"
     ]
    },
    {
     "name": "stderr",
     "output_type": "stream",
     "text": [
      " 55%|█████▌    | 401/723 [01:22<01:04,  4.99it/s]"
     ]
    },
    {
     "name": "stdout",
     "output_type": "stream",
     "text": [
      "intent loss: 0.06874874234199524\n",
      "intent acc: 0.96875\n"
     ]
    },
    {
     "name": "stderr",
     "output_type": "stream",
     "text": [
      " 69%|██████▉   | 502/723 [01:43<00:50,  4.37it/s]"
     ]
    },
    {
     "name": "stdout",
     "output_type": "stream",
     "text": [
      "intent loss: 0.03659147024154663\n",
      "intent acc: 0.984375\n"
     ]
    },
    {
     "name": "stderr",
     "output_type": "stream",
     "text": [
      " 83%|████████▎ | 602/723 [02:03<00:25,  4.76it/s]"
     ]
    },
    {
     "name": "stdout",
     "output_type": "stream",
     "text": [
      "intent loss: 0.013231679797172546\n",
      "intent acc: 1.0\n"
     ]
    },
    {
     "name": "stderr",
     "output_type": "stream",
     "text": [
      " 97%|█████████▋| 701/723 [02:23<00:04,  4.90it/s]"
     ]
    },
    {
     "name": "stdout",
     "output_type": "stream",
     "text": [
      "intent loss: 0.22818344831466675\n",
      "intent acc: 0.96875\n"
     ]
    },
    {
     "name": "stderr",
     "output_type": "stream",
     "text": [
      "100%|██████████| 723/723 [02:28<00:00,  5.72it/s]\n",
      "  0%|          | 0/723 [00:00<?, ?it/s]"
     ]
    },
    {
     "name": "stdout",
     "output_type": "stream",
     "text": [
      "========= Results: epoch 16 of 20 =========\n",
      "*intents*| train accuracy: 0.98| train loss: 0.05| valid accuracy: 0.93| valid loss: 0.41\n",
      "\n",
      "========= Epoch 17 of 20 =========\n",
      "sinc0: frozen\n",
      "conv1: frozen\n",
      "conv2: frozen\n",
      "phone_rnn0: frozen\n",
      "phone_rnn1: frozen\n",
      "word_rnn0: unfrozen\n",
      "word_rnn1: unfrozen\n"
     ]
    },
    {
     "name": "stderr",
     "output_type": "stream",
     "text": [
      "\r",
      "  0%|          | 1/723 [00:00<07:49,  1.54it/s]"
     ]
    },
    {
     "name": "stdout",
     "output_type": "stream",
     "text": [
      "intent loss: 0.045273780822753906\n",
      "intent acc: 0.984375\n"
     ]
    },
    {
     "name": "stderr",
     "output_type": "stream",
     "text": [
      " 14%|█▍        | 102/723 [00:20<01:54,  5.44it/s]"
     ]
    },
    {
     "name": "stdout",
     "output_type": "stream",
     "text": [
      "intent loss: 0.014841195195913315\n",
      "intent acc: 1.0\n"
     ]
    },
    {
     "name": "stderr",
     "output_type": "stream",
     "text": [
      " 28%|██▊       | 202/723 [00:40<01:52,  4.61it/s]"
     ]
    },
    {
     "name": "stdout",
     "output_type": "stream",
     "text": [
      "intent loss: 0.006893336772918701\n",
      "intent acc: 1.0\n"
     ]
    },
    {
     "name": "stderr",
     "output_type": "stream",
     "text": [
      " 42%|████▏     | 302/723 [01:01<01:25,  4.92it/s]"
     ]
    },
    {
     "name": "stdout",
     "output_type": "stream",
     "text": [
      "intent loss: 0.17275351285934448\n",
      "intent acc: 0.9375\n"
     ]
    },
    {
     "name": "stderr",
     "output_type": "stream",
     "text": [
      " 55%|█████▌    | 401/723 [01:21<01:09,  4.62it/s]"
     ]
    },
    {
     "name": "stdout",
     "output_type": "stream",
     "text": [
      "intent loss: 0.01622479408979416\n",
      "intent acc: 1.0\n"
     ]
    },
    {
     "name": "stderr",
     "output_type": "stream",
     "text": [
      " 69%|██████▉   | 501/723 [01:41<00:44,  5.02it/s]"
     ]
    },
    {
     "name": "stdout",
     "output_type": "stream",
     "text": [
      "intent loss: 0.002327732741832733\n",
      "intent acc: 1.0\n"
     ]
    },
    {
     "name": "stderr",
     "output_type": "stream",
     "text": [
      " 83%|████████▎ | 602/723 [02:03<00:27,  4.44it/s]"
     ]
    },
    {
     "name": "stdout",
     "output_type": "stream",
     "text": [
      "intent loss: 0.05339011549949646\n",
      "intent acc: 0.984375\n"
     ]
    },
    {
     "name": "stderr",
     "output_type": "stream",
     "text": [
      " 97%|█████████▋| 702/723 [02:23<00:03,  5.37it/s]"
     ]
    },
    {
     "name": "stdout",
     "output_type": "stream",
     "text": [
      "intent loss: 0.11486387252807617\n",
      "intent acc: 0.984375\n"
     ]
    },
    {
     "name": "stderr",
     "output_type": "stream",
     "text": [
      "100%|██████████| 723/723 [02:27<00:00,  5.24it/s]\n",
      "  0%|          | 0/723 [00:00<?, ?it/s]"
     ]
    },
    {
     "name": "stdout",
     "output_type": "stream",
     "text": [
      "========= Results: epoch 17 of 20 =========\n",
      "*intents*| train accuracy: 0.98| train loss: 0.05| valid accuracy: 0.93| valid loss: 0.42\n",
      "\n",
      "========= Epoch 18 of 20 =========\n",
      "sinc0: frozen\n",
      "conv1: frozen\n",
      "conv2: frozen\n",
      "phone_rnn0: frozen\n",
      "phone_rnn1: frozen\n",
      "word_rnn0: unfrozen\n",
      "word_rnn1: unfrozen\n"
     ]
    },
    {
     "name": "stderr",
     "output_type": "stream",
     "text": [
      "\r",
      "  0%|          | 1/723 [00:00<09:17,  1.30it/s]"
     ]
    },
    {
     "name": "stdout",
     "output_type": "stream",
     "text": [
      "intent loss: 0.010771676898002625\n",
      "intent acc: 1.0\n"
     ]
    },
    {
     "name": "stderr",
     "output_type": "stream",
     "text": [
      " 14%|█▍        | 102/723 [00:21<02:03,  5.02it/s]"
     ]
    },
    {
     "name": "stdout",
     "output_type": "stream",
     "text": [
      "intent loss: 0.00395597517490387\n",
      "intent acc: 1.0\n"
     ]
    },
    {
     "name": "stderr",
     "output_type": "stream",
     "text": [
      " 28%|██▊       | 202/723 [00:41<01:36,  5.42it/s]"
     ]
    },
    {
     "name": "stdout",
     "output_type": "stream",
     "text": [
      "intent loss: 0.022342652082443237\n",
      "intent acc: 0.984375\n"
     ]
    },
    {
     "name": "stderr",
     "output_type": "stream",
     "text": [
      " 42%|████▏     | 302/723 [01:03<01:31,  4.62it/s]"
     ]
    },
    {
     "name": "stdout",
     "output_type": "stream",
     "text": [
      "intent loss: 0.08131878823041916\n",
      "intent acc: 0.96875\n"
     ]
    },
    {
     "name": "stderr",
     "output_type": "stream",
     "text": [
      " 56%|█████▌    | 402/723 [01:22<01:00,  5.34it/s]"
     ]
    },
    {
     "name": "stdout",
     "output_type": "stream",
     "text": [
      "intent loss: 0.022298887372016907\n",
      "intent acc: 1.0\n"
     ]
    },
    {
     "name": "stderr",
     "output_type": "stream",
     "text": [
      " 69%|██████▉   | 502/723 [01:43<00:42,  5.25it/s]"
     ]
    },
    {
     "name": "stdout",
     "output_type": "stream",
     "text": [
      "intent loss: 0.022434517741203308\n",
      "intent acc: 0.984375\n"
     ]
    },
    {
     "name": "stderr",
     "output_type": "stream",
     "text": [
      " 83%|████████▎ | 601/723 [02:04<00:25,  4.76it/s]"
     ]
    },
    {
     "name": "stdout",
     "output_type": "stream",
     "text": [
      "intent loss: 0.09739715605974197\n",
      "intent acc: 0.96875\n"
     ]
    },
    {
     "name": "stderr",
     "output_type": "stream",
     "text": [
      " 97%|█████████▋| 701/723 [02:24<00:04,  4.46it/s]"
     ]
    },
    {
     "name": "stdout",
     "output_type": "stream",
     "text": [
      "intent loss: 0.11390771716833115\n",
      "intent acc: 0.984375\n"
     ]
    },
    {
     "name": "stderr",
     "output_type": "stream",
     "text": [
      "100%|██████████| 723/723 [02:29<00:00,  5.03it/s]\n",
      "  0%|          | 0/723 [00:00<?, ?it/s]"
     ]
    },
    {
     "name": "stdout",
     "output_type": "stream",
     "text": [
      "========= Results: epoch 18 of 20 =========\n",
      "*intents*| train accuracy: 0.98| train loss: 0.06| valid accuracy: 0.94| valid loss: 0.41\n",
      "\n",
      "========= Epoch 19 of 20 =========\n",
      "sinc0: frozen\n",
      "conv1: frozen\n",
      "conv2: frozen\n",
      "phone_rnn0: frozen\n",
      "phone_rnn1: frozen\n",
      "word_rnn0: unfrozen\n",
      "word_rnn1: unfrozen\n"
     ]
    },
    {
     "name": "stderr",
     "output_type": "stream",
     "text": [
      "  0%|          | 2/723 [00:00<07:10,  1.67it/s]"
     ]
    },
    {
     "name": "stdout",
     "output_type": "stream",
     "text": [
      "intent loss: 0.01720711961388588\n",
      "intent acc: 1.0\n"
     ]
    },
    {
     "name": "stderr",
     "output_type": "stream",
     "text": [
      " 14%|█▍        | 102/723 [00:20<01:55,  5.38it/s]"
     ]
    },
    {
     "name": "stdout",
     "output_type": "stream",
     "text": [
      "intent loss: 0.13646696507930756\n",
      "intent acc: 0.984375\n"
     ]
    },
    {
     "name": "stderr",
     "output_type": "stream",
     "text": [
      " 28%|██▊       | 201/723 [00:41<01:49,  4.76it/s]"
     ]
    },
    {
     "name": "stdout",
     "output_type": "stream",
     "text": [
      "intent loss: 0.08392855525016785\n",
      "intent acc: 0.96875\n"
     ]
    },
    {
     "name": "stderr",
     "output_type": "stream",
     "text": [
      " 42%|████▏     | 301/723 [01:02<01:25,  4.94it/s]"
     ]
    },
    {
     "name": "stdout",
     "output_type": "stream",
     "text": [
      "intent loss: 0.05759446322917938\n",
      "intent acc: 0.984375\n"
     ]
    },
    {
     "name": "stderr",
     "output_type": "stream",
     "text": [
      " 56%|█████▌    | 402/723 [01:23<01:02,  5.10it/s]"
     ]
    },
    {
     "name": "stdout",
     "output_type": "stream",
     "text": [
      "intent loss: 0.004284888505935669\n",
      "intent acc: 1.0\n"
     ]
    },
    {
     "name": "stderr",
     "output_type": "stream",
     "text": [
      " 69%|██████▉   | 502/723 [01:44<00:42,  5.15it/s]"
     ]
    },
    {
     "name": "stdout",
     "output_type": "stream",
     "text": [
      "intent loss: 0.2676129937171936\n",
      "intent acc: 0.953125\n"
     ]
    },
    {
     "name": "stderr",
     "output_type": "stream",
     "text": [
      " 83%|████████▎ | 602/723 [02:04<00:23,  5.05it/s]"
     ]
    },
    {
     "name": "stdout",
     "output_type": "stream",
     "text": [
      "intent loss: 0.010850086808204651\n",
      "intent acc: 1.0\n"
     ]
    },
    {
     "name": "stderr",
     "output_type": "stream",
     "text": [
      " 97%|█████████▋| 702/723 [02:24<00:04,  4.96it/s]"
     ]
    },
    {
     "name": "stdout",
     "output_type": "stream",
     "text": [
      "intent loss: 0.09086795896291733\n",
      "intent acc: 0.9375\n"
     ]
    },
    {
     "name": "stderr",
     "output_type": "stream",
     "text": [
      "100%|██████████| 723/723 [02:28<00:00,  5.19it/s]\n",
      "  0%|          | 0/723 [00:00<?, ?it/s]"
     ]
    },
    {
     "name": "stdout",
     "output_type": "stream",
     "text": [
      "========= Results: epoch 19 of 20 =========\n",
      "*intents*| train accuracy: 0.98| train loss: 0.05| valid accuracy: 0.94| valid loss: 0.33\n",
      "\n",
      "========= Epoch 20 of 20 =========\n",
      "sinc0: frozen\n",
      "conv1: frozen\n",
      "conv2: frozen\n",
      "phone_rnn0: frozen\n",
      "phone_rnn1: frozen\n",
      "word_rnn0: unfrozen\n",
      "word_rnn1: unfrozen\n"
     ]
    },
    {
     "name": "stderr",
     "output_type": "stream",
     "text": [
      "  0%|          | 2/723 [00:00<07:21,  1.63it/s]"
     ]
    },
    {
     "name": "stdout",
     "output_type": "stream",
     "text": [
      "intent loss: 0.21427899599075317\n",
      "intent acc: 0.9375\n"
     ]
    },
    {
     "name": "stderr",
     "output_type": "stream",
     "text": [
      " 14%|█▍        | 101/723 [00:20<02:02,  5.06it/s]"
     ]
    },
    {
     "name": "stdout",
     "output_type": "stream",
     "text": [
      "intent loss: 0.013571903109550476\n",
      "intent acc: 0.984375\n"
     ]
    },
    {
     "name": "stderr",
     "output_type": "stream",
     "text": [
      " 28%|██▊       | 201/723 [00:41<01:35,  5.48it/s]"
     ]
    },
    {
     "name": "stdout",
     "output_type": "stream",
     "text": [
      "intent loss: 0.224066823720932\n",
      "intent acc: 0.953125\n"
     ]
    },
    {
     "name": "stderr",
     "output_type": "stream",
     "text": [
      " 42%|████▏     | 301/723 [01:02<01:53,  3.72it/s]"
     ]
    },
    {
     "name": "stdout",
     "output_type": "stream",
     "text": [
      "intent loss: 0.021574005484580994\n",
      "intent acc: 1.0\n"
     ]
    },
    {
     "name": "stderr",
     "output_type": "stream",
     "text": [
      " 56%|█████▌    | 402/723 [01:24<01:06,  4.84it/s]"
     ]
    },
    {
     "name": "stdout",
     "output_type": "stream",
     "text": [
      "intent loss: 0.0017220675945281982\n",
      "intent acc: 1.0\n"
     ]
    },
    {
     "name": "stderr",
     "output_type": "stream",
     "text": [
      " 69%|██████▉   | 502/723 [01:44<00:46,  4.80it/s]"
     ]
    },
    {
     "name": "stdout",
     "output_type": "stream",
     "text": [
      "intent loss: 0.19392277300357819\n",
      "intent acc: 0.953125\n"
     ]
    },
    {
     "name": "stderr",
     "output_type": "stream",
     "text": [
      " 83%|████████▎ | 601/723 [02:05<00:24,  5.02it/s]"
     ]
    },
    {
     "name": "stdout",
     "output_type": "stream",
     "text": [
      "intent loss: 0.023221246898174286\n",
      "intent acc: 0.984375\n"
     ]
    },
    {
     "name": "stderr",
     "output_type": "stream",
     "text": [
      " 97%|█████████▋| 701/723 [02:25<00:04,  4.75it/s]"
     ]
    },
    {
     "name": "stdout",
     "output_type": "stream",
     "text": [
      "intent loss: 0.05376802384853363\n",
      "intent acc: 0.96875\n"
     ]
    },
    {
     "name": "stderr",
     "output_type": "stream",
     "text": [
      "100%|██████████| 723/723 [02:30<00:00,  5.10it/s]\n"
     ]
    },
    {
     "name": "stdout",
     "output_type": "stream",
     "text": [
      "========= Results: epoch 20 of 20 =========\n",
      "*intents*| train accuracy: 0.98| train loss: 0.06| valid accuracy: 0.93| valid loss: 0.40\n",
      "\n",
      "CPU times: user 45min 35s, sys: 6min 52s, total: 52min 28s\n",
      "Wall time: 52min 39s\n"
     ]
    }
   ],
   "source": [
    "%%time\n",
    "\n",
    "# Train the model\n",
    "trainer = Trainer(model=model, config=config)\n",
    "# if restart: trainer.load_checkpoint()\n",
    "\n",
    "for epoch in range(config.training_num_epochs):\n",
    "    print(\"========= Epoch %d of %d =========\" % (epoch+1, config.training_num_epochs))\n",
    "    train_intent_acc, train_intent_loss = trainer.train(train_dataset)\n",
    "    valid_intent_acc, valid_intent_loss = trainer.test(valid_dataset)\n",
    "\n",
    "    print(\"========= Results: epoch %d of %d =========\" % (epoch+1, config.training_num_epochs))\n",
    "    print(\"*intents*| train accuracy: %.2f| train loss: %.2f| valid accuracy: %.2f| valid loss: %.2f\\n\" % (train_intent_acc, train_intent_loss, valid_intent_acc, valid_intent_loss) )\n",
    "    \n",
    "    trainer.save_checkpoint()"
   ]
  },
  {
   "cell_type": "code",
   "execution_count": null,
   "metadata": {},
   "outputs": [],
   "source": []
  },
  {
   "cell_type": "markdown",
   "metadata": {},
   "source": [
    "# 3. Evaluate the Model"
   ]
  },
  {
   "cell_type": "code",
   "execution_count": 9,
   "metadata": {},
   "outputs": [
    {
     "name": "stdout",
     "output_type": "stream",
     "text": [
      "========= Test results =========\n",
      "*intents*| test accuracy: 0.99| test loss: 0.05| valid accuracy: 0.93| valid loss: 0.40\n",
      "\n"
     ]
    }
   ],
   "source": [
    "test_intent_acc, test_intent_loss = trainer.test(test_dataset)\n",
    "print(\"========= Test results =========\")\n",
    "print(\"*intents*| test accuracy: %.2f| test loss: %.2f| valid accuracy: %.2f| valid loss: %.2f\\n\" % (test_intent_acc, test_intent_loss, valid_intent_acc, valid_intent_loss) )"
   ]
  },
  {
   "cell_type": "code",
   "execution_count": null,
   "metadata": {},
   "outputs": [],
   "source": []
  },
  {
   "cell_type": "code",
   "execution_count": null,
   "metadata": {},
   "outputs": [],
   "source": []
  }
 ],
 "metadata": {
  "kernelspec": {
   "display_name": "Python 3",
   "language": "python",
   "name": "python3"
  },
  "language_info": {
   "codemirror_mode": {
    "name": "ipython",
    "version": 3
   },
   "file_extension": ".py",
   "mimetype": "text/x-python",
   "name": "python",
   "nbconvert_exporter": "python",
   "pygments_lexer": "ipython3",
   "version": "3.7.3"
  }
 },
 "nbformat": 4,
 "nbformat_minor": 2
}
